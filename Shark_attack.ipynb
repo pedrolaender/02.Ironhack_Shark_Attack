{
 "cells": [
  {
   "cell_type": "code",
   "execution_count": null,
   "metadata": {},
   "outputs": [],
   "source": [
    "# Import libraries\n",
    "import pandas as pd\n",
    "import numpy as np"
   ]
  },
  {
   "cell_type": "code",
   "execution_count": null,
   "metadata": {},
   "outputs": [],
   "source": [
    "# Create a new DataFrame\n",
    "data = pd.read_csv('dados/attacks.csv', encoding='latin-1', low_memory=False)\n",
    "pd.set_option('display.max_columns', None)"
   ]
  },
  {
   "cell_type": "markdown",
   "metadata": {},
   "source": [
    "### Getting information about the data"
   ]
  },
  {
   "cell_type": "code",
   "execution_count": null,
   "metadata": {},
   "outputs": [],
   "source": [
    "data.shape"
   ]
  },
  {
   "cell_type": "code",
   "execution_count": null,
   "metadata": {},
   "outputs": [],
   "source": [
    "data.info()"
   ]
  },
  {
   "cell_type": "markdown",
   "metadata": {},
   "source": [
    "### Cleaning collumns and lines with huge amount of NULL"
   ]
  },
  {
   "cell_type": "code",
   "execution_count": null,
   "metadata": {},
   "outputs": [],
   "source": [
    "# Verify values in collumns with huge amount of NULL\n",
    "data['Unnamed: 22'].value_counts()\n",
    "data['Unnamed: 22'].isnull().sum()\n",
    "data['Unnamed: 23'].value_counts()\n",
    "data['Unnamed: 23'].isnull().sum()\n",
    "# Remove collumns without significant values\n",
    "data = data.drop(['Unnamed: 22', 'Unnamed: 23'], axis = 1)"
   ]
  },
  {
   "cell_type": "code",
   "execution_count": null,
   "metadata": {},
   "outputs": [],
   "source": [
    "data"
   ]
  },
  {
   "cell_type": "code",
   "execution_count": null,
   "metadata": {},
   "outputs": [],
   "source": [
    "# Verify lines with huge amount of NULL\n",
    "data['count_na'] = data.isna().sum(axis = 1)\n",
    "high_na = data['count_na'] > 10\n",
    "data.loc[high_na]\n",
    "data['count_na'].describe()\n",
    "# Remove lines filled with NULL\n",
    "data = data.dropna(thresh = 10)"
   ]
  },
  {
   "cell_type": "code",
   "execution_count": null,
   "metadata": {},
   "outputs": [],
   "source": [
    "data"
   ]
  },
  {
   "cell_type": "markdown",
   "metadata": {},
   "source": [
    "### Changing collumns names"
   ]
  },
  {
   "cell_type": "code",
   "execution_count": null,
   "metadata": {},
   "outputs": [],
   "source": [
    "# Change columns name\n",
    "import regex as re\n",
    "pattern = r'[^a-zA-Z0-9()/]'\n",
    "data.columns = [re.sub(pattern, '_', column.lower().strip()) for column in data.columns]\n",
    "data.columns"
   ]
  },
  {
   "cell_type": "code",
   "execution_count": null,
   "metadata": {},
   "outputs": [],
   "source": [
    "data.head(10)"
   ]
  },
  {
   "cell_type": "code",
   "execution_count": null,
   "metadata": {},
   "outputs": [],
   "source": [
    "data.tail(20)"
   ]
  },
  {
   "cell_type": "code",
   "execution_count": null,
   "metadata": {},
   "outputs": [],
   "source": [
    "data.head()"
   ]
  },
  {
   "cell_type": "markdown",
   "metadata": {},
   "source": [
    "## Question #1 - Are men the most common victim of shark attacks?"
   ]
  },
  {
   "cell_type": "code",
   "execution_count": null,
   "metadata": {},
   "outputs": [],
   "source": [
    "data.head()"
   ]
  },
  {
   "cell_type": "code",
   "execution_count": null,
   "metadata": {},
   "outputs": [],
   "source": [
    "data['sex'].value_counts()"
   ]
  },
  {
   "cell_type": "code",
   "execution_count": null,
   "metadata": {},
   "outputs": [],
   "source": [
    "# Remove blank spaces from the collumn 'sex'\n",
    "data['sex'] = data['sex'].str.strip()\n",
    "#data['sex'].unique()"
   ]
  },
  {
   "cell_type": "code",
   "execution_count": null,
   "metadata": {},
   "outputs": [],
   "source": [
    "data['sex'].value_counts()"
   ]
  },
  {
   "cell_type": "code",
   "execution_count": null,
   "metadata": {},
   "outputs": [],
   "source": [
    "# Create new DataFrame man only\n",
    "men_mask = data['sex'] == 'M'\n",
    "data_men = data[men_mask]"
   ]
  },
  {
   "cell_type": "markdown",
   "metadata": {},
   "source": [
    "## Answer #1 - Men are the most common victim with 5096 cases"
   ]
  },
  {
   "cell_type": "markdown",
   "metadata": {},
   "source": [
    "## Question #2 - Are men under 30 years the most common victim?"
   ]
  },
  {
   "cell_type": "code",
   "execution_count": null,
   "metadata": {},
   "outputs": [],
   "source": [
    "# Check the inputs in age collumn\n",
    "data_men['age'].unique()\n",
    "data_men['age'].isna().sum()"
   ]
  },
  {
   "cell_type": "markdown",
   "metadata": {},
   "source": [
    "### Need to clean this collumn"
   ]
  },
  {
   "cell_type": "code",
   "execution_count": null,
   "metadata": {},
   "outputs": [],
   "source": [
    "# Define a function to clean age collumns - transform each input in a list of numbers\n",
    "# Transforming into a list is needed because there are attack in multiple people at once\n",
    "# Later the list of numbers will be exploded so we can count the multiple attacks\n",
    "\n",
    "def age_into_list(age):\n",
    "\n",
    "    age = str(age).strip()\n",
    "    import re\n",
    "    \n",
    "    if len(age) == 0:\n",
    "        return np.nan\n",
    "\n",
    "    elif age.isdigit():\n",
    "        return [int(age)]\n",
    "\n",
    "    elif re.search('teen[s]*|young|month[s]*', age, re.I):\n",
    "        return [10]\n",
    "\n",
    "    elif re.search('.*adult.*|.*elder.*|.*middle.*', age, re.I):\n",
    "        return [35]\n",
    "    \n",
    "    elif re.search('.?or.?', age, re.I):\n",
    "        aux = re.findall('\\d+', age, re.I)\n",
    "        return [aux[0]]\n",
    "    \n",
    "    elif re.search('.?&.?', age, re.I):\n",
    "        aux = re.findall('\\d+', age, re.I)\n",
    "        return aux\n",
    "\n",
    "    elif re.search('.\\d{2}[\\'s]\\?', age, re.I):\n",
    "        aux = re.findall('\\d{2}', age, re.I)\n",
    "        return aux\n",
    "   \n",
    "    else:\n",
    "        return np.nan"
   ]
  },
  {
   "cell_type": "code",
   "execution_count": null,
   "metadata": {},
   "outputs": [],
   "source": [
    "# Execute some tests at the new collumns\n",
    "data_men['age'].apply(age_into_list).isnull().sum()\n",
    "data_men['age'].apply(age_into_list).notna().sum()"
   ]
  },
  {
   "cell_type": "code",
   "execution_count": null,
   "metadata": {},
   "outputs": [],
   "source": [
    "# Create a new collumn wiht the age clean\n",
    "data_men['list_age'] = data_men['age'].apply(age_into_list)"
   ]
  },
  {
   "cell_type": "code",
   "execution_count": null,
   "metadata": {},
   "outputs": [],
   "source": [
    "# Check if we lost any data\n",
    "new_total_entries = data_men['list_age'].notna().sum()\n",
    "data_loss = data_men['age'].notna().sum() - new_total_entries\n",
    "print(f'Total entries with cleaned age: {new_total_entries}\\nEntries lost: {data_loss}\\n')\n",
    "# It's an acceptable number"
   ]
  },
  {
   "cell_type": "code",
   "execution_count": null,
   "metadata": {},
   "outputs": [],
   "source": [
    "# Explode lists of ages\n",
    "data_men = data_men.explode('list_age', ignore_index=False)\n",
    "data_men.shape\n",
    "# Create new collumn age as int\n",
    "data_men.loc[data_men['list_age'].notna(), 'age_int'] = data_men[data_men['list_age'].notna()]['list_age'].astype('int16')\n",
    "data_men.dtypes"
   ]
  },
  {
   "cell_type": "code",
   "execution_count": null,
   "metadata": {},
   "outputs": [],
   "source": [
    "# Check if the young are attacked more often as the elder\n",
    "age_notna_mask = data_men['age_int'].notna()\n",
    "under_30_mask = (data_men['age_int'] <= 30)\n",
    "count_man_under30 = data_men.loc[under_30_mask & age_notna_mask, 'age_int'].count()\n",
    "count_man_over30 = data_men.loc[~under_30_mask & age_notna_mask, 'age_int'].count()\n",
    "print(f'Number of attacs in men under 30: {count_man_under30}\\nNumber o attacks in men over 30: {count_man_over30}')"
   ]
  },
  {
   "cell_type": "code",
   "execution_count": null,
   "metadata": {},
   "outputs": [],
   "source": [
    "# Create new DataFrame with men under 30\n",
    "data_men_30 = data_men.loc[under_30_mask & age_notna_mask].reset_index(drop=True)"
   ]
  },
  {
   "cell_type": "markdown",
   "metadata": {},
   "source": [
    "## Answer #2 - Men under 30 are attacked twice as often as elder\n",
    "### Under 30: 1995\n",
    "### Over 30: 965"
   ]
  },
  {
   "cell_type": "markdown",
   "metadata": {},
   "source": [
    "## Question #3 - Do the sharks focus on hutting american?"
   ]
  },
  {
   "cell_type": "code",
   "execution_count": 300,
   "metadata": {},
   "outputs": [
    {
     "data": {
      "text/plain": [
       "6"
      ]
     },
     "execution_count": 300,
     "metadata": {},
     "output_type": "execute_result"
    }
   ],
   "source": []
  },
  {
   "cell_type": "code",
   "execution_count": null,
   "metadata": {},
   "outputs": [],
   "source": [
    "# Check if there are many NULLs in country collumn\n",
    "data_men_30['country'].isnull().sum()"
   ]
  },
  {
   "cell_type": "code",
   "execution_count": 310,
   "metadata": {},
   "outputs": [
    {
     "name": "stdout",
     "output_type": "stream",
     "text": [
      "Us attack percentagem: 0.41604010025062654\n"
     ]
    }
   ],
   "source": [
    "# Check number of attacks in men under 30 for each country\n",
    "data_men_30['country'].value_counts()\n",
    "\n",
    "#Create mask to filter attacks in USA\n",
    "us_mask = data_men_30['country'] == 'USA'\n",
    "\n",
    "# % of attakcs on americans\n",
    "us_percentage = (data_men_30.loc[us_mask, 'country'].count() / data_men_30.shape[0])\n",
    "print(f'Us attack percentagem: {us_percentage}')"
   ]
  },
  {
   "cell_type": "code",
   "execution_count": 305,
   "metadata": {},
   "outputs": [],
   "source": [
    "# Create DataFrame with attacks at USA\n",
    "us_mask = data_men_30['country'] == 'USA'\n",
    "data_men_30_us = data_men_30[us_mask].reset_index(drop=True)"
   ]
  },
  {
   "cell_type": "markdown",
   "metadata": {},
   "source": [
    "## Question - Do the majority number os attacks occur in summer?"
   ]
  },
  {
   "cell_type": "code",
   "execution_count": null,
   "metadata": {},
   "outputs": [],
   "source": [
    "# Check if the collumn that contaits the date of the attack are in date format\n",
    "data['date'].info\n",
    "list(data['date'].unique())\n",
    "#list(data['case_number'].unique())\n",
    "#pd.to_datetime(data['date'], format ='%d-%b-%Y')\n"
   ]
  },
  {
   "cell_type": "code",
   "execution_count": null,
   "metadata": {},
   "outputs": [],
   "source": [
    "mask_contains_date = data['date'].str.contains('\\d{2}-\\w{3}-\\d{4}', regex=True)\n",
    "data.loc[mask_contains_date, 'date'].tail(30)\n",
    "#data.loc[mask_contains_date, 'new_date'] = data['date'].str.replace('.*\\d{2}-\\w{3}-\\d{4}.*','\\d{2}-\\w{3}-\\d{4}', regex=True)\n",
    "\n"
   ]
  },
  {
   "cell_type": "code",
   "execution_count": null,
   "metadata": {},
   "outputs": [],
   "source": [
    "def replace_date(line):\n",
    "    import re\n",
    "    look_for = '.*\\d{2}-\\w{3}-\\d{4}.*'\n",
    "    replace = '\\d{2}-\\w{3}-\\d{4}'\n",
    "    if re.search(look_for, line):\n",
    "        return re.sub(look_for, replace, line.lower())"
   ]
  },
  {
   "cell_type": "code",
   "execution_count": null,
   "metadata": {},
   "outputs": [],
   "source": [
    "replace_date('reported 10-Jan-1995')"
   ]
  },
  {
   "cell_type": "code",
   "execution_count": null,
   "metadata": {},
   "outputs": [],
   "source": [
    "data['case_number'].tail(100)"
   ]
  },
  {
   "cell_type": "code",
   "execution_count": null,
   "metadata": {},
   "outputs": [],
   "source": []
  }
 ],
 "metadata": {
  "kernelspec": {
   "display_name": "Python 3.9.12 ('base')",
   "language": "python",
   "name": "python3"
  },
  "language_info": {
   "codemirror_mode": {
    "name": "ipython",
    "version": 3
   },
   "file_extension": ".py",
   "mimetype": "text/x-python",
   "name": "python",
   "nbconvert_exporter": "python",
   "pygments_lexer": "ipython3",
   "version": "3.9.12"
  },
  "orig_nbformat": 4,
  "vscode": {
   "interpreter": {
    "hash": "2d90c038637108ac29aff4d22cdf99e3e2599f922ccc5532827d676edf9e0ab0"
   }
  }
 },
 "nbformat": 4,
 "nbformat_minor": 2
}
