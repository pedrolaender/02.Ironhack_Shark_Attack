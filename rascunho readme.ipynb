{
 "cells": [
  {
   "cell_type": "markdown",
   "metadata": {},
   "source": [
    "# Shark Attack\n",
    "\n",
    "  Project Completed\n",
    "# Project Objective\n",
    "\n",
    "  This project focuses on training data cleaning skills along with getting familiar with various data manipulation methods and aproaches.\n",
    "  Therefore, a hypothesis was assumed at the beginning of the project that would be confirmed or denied after the data analysis. After verifying the first hypothesis, another one, linked to the previous, would be assumed and cheked, and so on.\n",
    "\n",
    "# Methods\n",
    "\n",
    "  - Filtering\n",
    "  - Grouping\n",
    "  - Functional Programming\n",
    "# Technologies \n",
    "\n",
    "  - Python\n",
    "  - Pandas\n",
    "  - Regex\n",
    "# Project Description\n",
    "\n",
    "  The dataset was extracted from the website Global Shark Attack File (https://www.sharkattackfile.net/). It contains occurrences of shark attacks around the world for many decades.\n",
    "\n",
    "  1- Dataset contains:\n",
    "\n",
    "  - 25723 entries\n",
    "\n",
    "  2- Remove lines and collumns filled with NaN.\n",
    "\n",
    "  - 6302 entries\n",
    "\n",
    "  3- Hypothesis that man are most likely to be attacked than women.\n",
    "\n",
    "  - 5733 entries\n",
    "\n",
    "  4- Hypothesis that sharks preffer hunting youger men.\n",
    "\n",
    "  - 2960 entries\n",
    "\n",
    "  5- Hypotesis that sharks focus on hunting american.\n",
    "\n",
    "  - 1995 entries\n",
    "\n",
    "  6- Hypotesis that the majority number of attacks occur in summer.\n",
    "  \n",
    "  - 822 entries\n",
    "\n",
    "# Steps\n",
    "  Add here any insights you had during the project\n",
    "\n",
    "# Conclusion - descritiva - explicação - como explorar essa conclusão - por que esse padrão - tabelas dos resultados\n",
    "  The data analysis validated all 4 hypothesis.\n",
    "\n",
    "  -5096 out of 5733 attacks were on men (89%).\n",
    "\n",
    "  -1995 out of 2960 attacks were on young men (67%).\n",
    "\n",
    "  -830 out of 1995 attacks were on americans (42%).\n",
    "  \n",
    "  -353 out of 822 attacks occurred on summer (43%).\n",
    "\n",
    "# Contact\n",
    "  linkedin, github, medium, etc "
   ]
  },
  {
   "cell_type": "markdown",
   "metadata": {},
   "source": []
  }
 ],
 "metadata": {
  "kernelspec": {
   "display_name": "Python 3.10.7 64-bit",
   "language": "python",
   "name": "python3"
  },
  "language_info": {
   "codemirror_mode": {
    "name": "ipython",
    "version": 3
   },
   "file_extension": ".py",
   "mimetype": "text/x-python",
   "name": "python",
   "nbconvert_exporter": "python",
   "pygments_lexer": "ipython3",
   "version": "3.10.7"
  },
  "orig_nbformat": 4,
  "vscode": {
   "interpreter": {
    "hash": "3763ad9f89648d847e6f5401e1219410b4a0054c5a073f5da0c68452446768ec"
   }
  }
 },
 "nbformat": 4,
 "nbformat_minor": 2
}
